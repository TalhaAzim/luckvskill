{
 "cells": [
  {
   "cell_type": "markdown",
   "id": "f77e3508-cf9f-40cf-af5c-4adf98b98c38",
   "metadata": {},
   "source": [
    "# The General Idea"
   ]
  },
  {
   "cell_type": "code",
   "execution_count": 1,
   "id": "3c4f8a89-f9cf-4d37-b9b8-e195cd0ec9dc",
   "metadata": {},
   "outputs": [],
   "source": [
    "import sympy as sm\n",
    "import numpy as np\n",
    "\n",
    "sm.init_printing(use_latex=True)"
   ]
  },
  {
   "cell_type": "code",
   "execution_count": 2,
   "id": "0f3e0307-dd82-4064-8e43-58ab19952886",
   "metadata": {},
   "outputs": [
    {
     "data": {
      "image/png": "[encoded data removed]",
      "text/latex": [
       "$\\displaystyle l \\left(1 - w\\right) + s w$"
      ],
      "text/plain": [
       "l⋅(1 - w) + s⋅w"
      ]
     },
     "execution_count": 2,
     "metadata": {},
     "output_type": "execute_result"
    }
   ],
   "source": [
    "l, s, w = sm.symbols('l s w')\n",
    "\n",
    "eq = s * w + l * (1 - w)\n",
    "\n",
    "eq"
   ]
  },
  {
   "cell_type": "code",
   "execution_count": 3,
   "id": "f0ff73a7-0dfb-4574-b02b-e64d4f6ad558",
   "metadata": {},
   "outputs": [
    {
     "data": {
      "text/plain": [
       "<function _lambdifygenerated(l, s, w)>"
      ]
     },
     "execution_count": 3,
     "metadata": {},
     "output_type": "execute_result"
    }
   ],
   "source": [
    "fn = sm.lambdify((l, s, w), eq, \"numpy\")\n",
    "fn"
   ]
  },
  {
   "cell_type": "code",
   "execution_count": 5,
   "id": "e4330128-6f74-4634-8531-bfe56f0412e3",
   "metadata": {},
   "outputs": [
    {
     "data": {
      "text/plain": [
       "array([0.45      , 0.50555556, 0.56111111, 0.61666667, 0.67222222,\n",
       "       0.72777778, 0.78333333, 0.83888889, 0.89444444, 0.95      ])"
      ]
     },
     "execution_count": 5,
     "metadata": {},
     "output_type": "execute_result"
    }
   ],
   "source": [
    "l_vals = np.linspace(0, 1, 10)\n",
    "s_val = 0.9\n",
    "w_val = 0.5\n",
    "\n",
    "results = fn(l_vals, s_val, w_val)\n",
    "results"
   ]
  },
  {
   "cell_type": "code",
   "execution_count": null,
   "id": "f9626cb8-1889-46c8-8ab9-ee584ee5d1c0",
   "metadata": {},
   "outputs": [],
   "source": []
  }
 ],
 "metadata": {
  "kernelspec": {
   "display_name": "Python 3 (ipykernel)",
   "language": "python",
   "name": "python3"
  },
  "language_info": {
   "codemirror_mode": {
    "name": "ipython",
    "version": 3
   },
   "file_extension": ".py",
   "mimetype": "text/x-python",
   "name": "python",
   "nbconvert_exporter": "python",
   "pygments_lexer": "ipython3",
   "version": "3.11.4"
  }
 },
 "nbformat": 4,
 "nbformat_minor": 5
}
